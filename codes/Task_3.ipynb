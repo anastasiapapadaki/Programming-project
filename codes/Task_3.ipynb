{
 "cells": [
  {
   "cell_type": "code",
   "execution_count": 4,
   "metadata": {},
   "outputs": [],
   "source": [
    "from __future__ import division\n",
    "from __future__ import print_function\n",
    "import numpy as np\n",
    "import scipy.sparse as ssp\n",
    "from scipy.sparse.linalg import spsolve\n",
    "import matplotlib.pyplot as plt"
   ]
  },
  {
   "cell_type": "code",
   "execution_count": 5,
   "metadata": {},
   "outputs": [],
   "source": [
    "class FiberNetwork:\n",
    "    def __init__(self,Nx,Ny):\n",
    "        self.Nx = Nx\n",
    "        self.Ny = Ny\n",
    "        self.N = Nx*Ny\n",
    "        self.nrows = self.N - 2*self.Nx\n",
    "        self.adjmat = ssp.lil_matrix((self.N,self.N), dtype=np.int32)\n",
    "        self.V = np.zeros(self.N, dtype=np.float64)\n",
    "        self.V[:Nx] = 1 \n",
    "    def adj_todense(self):\n",
    "        return self.adjmat.todense()\n",
    "    def lap_todense(self):\n",
    "        return self.lapmat.todense()\n",
    "    def get_east_neighbour(self,node):\n",
    "        return (node//self.Nx)*self.Nx + (node+1)%self.Nx\n",
    "    def get_south_neighbour(self,node):\n",
    "        return (node+self.Nx)%self.N\n",
    "    def add_link(self,node1,node2):\n",
    "        self.adjmat[node1,node2] = 1\n",
    "        self.adjmat[node2,node1] = 1\n",
    "    def build_fiber_network_w_bus(self):\n",
    "        for node in range(self.Nx, self.N-self.Nx):\n",
    "            self.add_link(node,self.get_east_neighbour(node))\n",
    "        for node in range(self.N-self.Nx):\n",
    "            self.add_link(node,self.get_south_neighbour(node))\n",
    "    def get_neighbors(self,node):\n",
    "        return self.adjmat.rows[node]\n",
    "    def lapmat(self):\n",
    "        lapmat = ssp.lil_matrix((self.nrows,self.nrows), dtype=np.float64)\n",
    "        for node in range(self.Nx, self.N-self.Nx):\n",
    "            i = node - self.Nx\n",
    "            neighbors = self.get_neighbors(node)\n",
    "            degree = len(neighbors)\n",
    "            lapmat[i,i] = degree\n",
    "            for nn in neighbors:\n",
    "                if(nn>=self.Nx and nn<self.N-self.Nx):\n",
    "                    j = nn - self.Nx\n",
    "                    lapmat[i,j] = -1 \n",
    "        return lapmat.tocsr()\n",
    "    def rhs(self):\n",
    "        rhs = np.zeros(self.nrows, dtype=np.float64)\n",
    "        for node in range(self.Nx, 2*self.Nx):\n",
    "            neighbors = self.get_neighbors(node)\n",
    "            if node-self.Nx in neighbors:\n",
    "                rhs[node-self.Nx] = self.V[node-self.Nx]\n",
    "        return rhs\n",
    "    def update_potentials(self,x):\n",
    "        self.V[self.Nx:self.N-self.Nx] = x\n",
    "    def remove_fiber_between_nodes(self,node1,node2):\n",
    "        self.adjmat[node1,node2] = 0\n",
    "        self.adjmat[node2,node1] = 0\n",
    "    def plot_potentials(self):\n",
    "        side = self.Nx\n",
    "        matrixV = self.V.reshape((side,side))\n",
    "        plt.matshow(matrixV)\n",
    "    def plot_network(self):\n",
    "        f, ax = plt.subplots()\n",
    "        ax.set_aspect('equal')\n",
    "        elements = self.adjmat.nonzero()\n",
    "        for i,j in zip(elements[0],elements[1]):\n",
    "            if i<j:\n",
    "                xi, xj = i%self.Nx, j%self.Nx\n",
    "                yi, yj = i//self.Nx, j//self.Nx\n",
    "                if j-i==self.Nx-1:\n",
    "                    xi = xj+1\n",
    "                ax.plot([xi,xj],[yi,yj],'k-')\n",
    "    def plot_currents(self):\n",
    "        f, ax = plt.subplots()\n",
    "        ax.set_aspect('equal')\n",
    "        elements = self.adjmat.nonzero()\n",
    "        for i,j in zip(elements[0],elements[1]):\n",
    "            if i<j:\n",
    "                xi, xj = i%self.Nx, j%self.Nx\n",
    "                yi, yj = i//self.Nx, j//self.Nx\n",
    "                current = np.abs(self.V[i]-self.V[j])\n",
    "                if j-i==self.Nx-1:\n",
    "                    xi = xj+1\n",
    "                ax.plot([xi,xj],[yi,yj],'k-',lw=20*current)\n",
    "    def hor_current(self,i):\n",
    "        hor_current = []\n",
    "        for j in range((i//self.Nx+1)*self.Nx - i-1):\n",
    "            print(i+j+1)\n",
    "            hor_current.append(np.abs(self.V[i+j]-self.V[i+j+1]))\n",
    "        return hor_current"
   ]
  },
  {
   "cell_type": "code",
   "execution_count": 3,
   "metadata": {},
   "outputs": [
    {
     "name": "stdout",
     "output_type": "stream",
     "text": [
      "193\n",
      "194\n",
      "195\n",
      "196\n",
      "197\n",
      "198\n",
      "199\n",
      "[0.05819824788614636, 0.01573200592443269, 0.005177364271676033, 0.0021004413305583114, 0.0010041085274388184, 0.0005201346880744362, 0.00025661551570665964]\n"
     ]
    },
    {
     "data": {
      "image/png": "[encoded data removed]",
      "text/plain": [
       "<Figure size 432x288 with 1 Axes>"
      ]
     },
     "metadata": {
      "needs_background": "light"
     },
     "output_type": "display_data"
    },
    {
     "data": {
      "image/png": "[encoded data removed]",
      "text/plain": [
       "<Figure size 432x288 with 1 Axes>"
      ]
     },
     "metadata": {
      "needs_background": "light"
     },
     "output_type": "display_data"
    },
    {
     "data": {
      "image/png": "[encoded data removed]",
      "text/plain": [
       "<Figure size 288x288 with 1 Axes>"
      ]
     },
     "metadata": {
      "needs_background": "light"
     },
     "output_type": "display_data"
    }
   ],
   "source": [
    "net = FiberNetwork(20,20)\n",
    "net.build_fiber_network_w_bus()\n",
    "\n",
    "x = spsolve(net.lapmat(), net.rhs())\n",
    "net.update_potentials(x)\n",
    "\n",
    "net.remove_fiber_between_nodes(188,208)\n",
    "net.remove_fiber_between_nodes(189,209)\n",
    "net.remove_fiber_between_nodes(190,210)\n",
    "net.remove_fiber_between_nodes(191,211)\n",
    "net.remove_fiber_between_nodes(192,212)\n",
    "x = spsolve(net.lapmat(), net.rhs())\n",
    "net.update_potentials(x)\n",
    "\n",
    "print(net.hor_current(192))\n",
    "\n",
    "net.plot_network()\n",
    "net.plot_currents()\n",
    "net.plot_potentials()\n",
    "plt.show()"
   ]
  },
  {
   "cell_type": "code",
   "execution_count": 40,
   "metadata": {},
   "outputs": [
    {
     "name": "stdout",
     "output_type": "stream",
     "text": [
      "4.300000000000001\n"
     ]
    }
   ],
   "source": [
    "print(19.3%5)"
   ]
  },
  {
   "cell_type": "code",
   "execution_count": null,
   "metadata": {},
   "outputs": [],
   "source": []
  }
 ],
 "metadata": {
  "kernelspec": {
   "display_name": "Python 3 (ipykernel)",
   "language": "python",
   "name": "python3"
  },
  "language_info": {
   "codemirror_mode": {
    "name": "ipython",
    "version": 3
   },
   "file_extension": ".py",
   "mimetype": "text/x-python",
   "name": "python",
   "nbconvert_exporter": "python",
   "pygments_lexer": "ipython3",
   "version": "3.9.12"
  }
 },
 "nbformat": 4,
 "nbformat_minor": 4
}
